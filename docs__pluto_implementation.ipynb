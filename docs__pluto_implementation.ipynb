{
 "cells": [
  {
   "cell_type": "markdown",
   "metadata": {},
   "source": []
  },
  {
   "cell_type": "code",
   "execution_count": null,
   "metadata": {},
   "outputs": [],
   "source": [
    "import os\n",
    "\n",
    "from dotenv import load_dotenv\n",
    "\n",
    "if os.getcwd().endswith(\"notebooks\"):\n",
    "    os.chdir(\"./..\")\n",
    "print(\"Current Directory:\", os.getcwd())\n",
    "load_dotenv()"
   ]
  },
  {
   "cell_type": "code",
   "execution_count": null,
   "metadata": {},
   "outputs": [],
   "source": [
    "import sqlite3\n",
    "import pandas as pd\n",
    "\n",
    "conn = sqlite3.connect(\"./data/transactions.db\")\n",
    "display(pd.read_sql(\"\"\"SELECT * FROM transactions\"\"\", conn))\n"
   ]
  },
  {
   "cell_type": "code",
   "execution_count": 3,
   "metadata": {},
   "outputs": [
    {
     "name": "stdout",
     "output_type": "stream",
     "text": [
      "DB Dialect: sqlite\n",
      "DB Usable Table Names: ['spend_tracker_aggregations', 'spend_tracker_categories']\n"
     ]
    }
   ],
   "source": [
    "from bot.pluto import build_pluto_chain\n",
    "from bot.sqldb import get_db\n",
    "from bot.utils import get_llm_chat_model\n",
    "from bot.prompts import (\n",
    "    DESCRIPTION__SPEND_TRACKER_AGGREGATIONS,\n",
    "    DESCRIPTION__SPEND_TRACKER_CATEGORIES,\n",
    ")\n",
    "\n",
    "llm = get_llm_chat_model(endpoint=\"openai\", model_name=\"gpt-3.5-turbo\", temperature=0)\n",
    "\n",
    "sql_db = get_db(\n",
    "    \"transactions.db\",\n",
    "    \"./data\",\n",
    "    additional_table_info=dict(\n",
    "        spend_tracker_aggregations=DESCRIPTION__SPEND_TRACKER_AGGREGATIONS,\n",
    "        spend_tracker_categories=DESCRIPTION__SPEND_TRACKER_CATEGORIES,\n",
    "    ),\n",
    ")"
   ]
  },
  {
   "cell_type": "code",
   "execution_count": 43,
   "metadata": {},
   "outputs": [
    {
     "name": "stdout",
     "output_type": "stream",
     "text": [
      "----------------------------------------------------------------------------------------------------\n",
      "QUESTION:\n",
      "{'question': 'What are my Request Money Payment transactions in the 1st quarter?'}\n",
      "ANSWER:\n",
      "Hey there! Your Request Money Payment transactions in the 1st quarter amounted to a total of PHP 2,000,000.13. It looks like you had quite a number of transactions during that period. If you need more details or have any other questions, feel free to ask!\n",
      "QUERY:\n",
      "SELECT \"transaction_total_amount\", \"transaction_type\", \"usecase\", \"category\"\n",
      "FROM \"spend_tracker_aggregations\" AS sta\n",
      "JOIN \"spend_tracker_categories\" AS stc ON sta.\"product_code\" = stc.\"product_code\" AND sta.\"event_code\" = stc.\"event_code\"\n",
      "WHERE \"transaction_type\" = 'DEBIT' \n",
      "AND \"category\" = 'Request Money Payment' \n",
      "AND \"transaction_month\" IN ('01', '02', '03')\n",
      "AND \"transaction_year\" = (CASE \n",
      "                            WHEN CAST(strftime('%m', date('now')) AS INTEGER) >= 4 THEN strftime('%Y', date('now'))\n",
      "                            ELSE CAST(strftime('%Y', date('now')) AS INTEGER) - 1\n",
      "                          END)\n",
      "LIMIT 100;\n"
     ]
    }
   ],
   "source": [
    "q1 = dict(question=\"What are my transactions in the 1st quarter?\")\n",
    "result = pluto_chain.invoke(q1)\n",
    "print(\"-\" * 100)\n",
    "print(\"QUESTION:\")\n",
    "print(q1)\n",
    "print(\"ANSWER:\")\n",
    "print(result[\"answer\"])\n",
    "print(\"QUERY:\")\n",
    "print(result[\"sql_query\"])"
   ]
  }
 ],
 "metadata": {
  "kernelspec": {
   "display_name": "venv",
   "language": "python",
   "name": "python3"
  },
  "language_info": {
   "codemirror_mode": {
    "name": "ipython",
    "version": 3
   },
   "file_extension": ".py",
   "mimetype": "text/x-python",
   "name": "python",
   "nbconvert_exporter": "python",
   "pygments_lexer": "ipython3",
   "version": "3.11.5"
  }
 },
 "nbformat": 4,
 "nbformat_minor": 2
}
